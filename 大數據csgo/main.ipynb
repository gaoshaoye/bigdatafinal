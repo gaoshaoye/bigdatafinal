{
 "cells": [
  {
   "cell_type": "code",
   "execution_count": 2,
   "metadata": {},
   "outputs": [],
   "source": [
    "import pandas as pd\n",
    "\n",
    "import numpy as np\n",
    "import matplotlib.pyplot as plt\n",
    "from sklearn.linear_model import LinearRegression\n",
    "\n",
    "def setr3(side,ws1,ws2,ws3):\n",
    "    count=0\n",
    "    if(ws1==side):\n",
    "        count=count+1\n",
    "    if(ws2==side):\n",
    "        count=count+1\n",
    "    if(ws3==side):\n",
    "        count=count+1\n",
    "    return count\n",
    "\n",
    "def seteco(side,t2,st2,t3,st3):\n",
    "    count=0\n",
    "    if(t2=='Eco'):\n",
    "        if (st2!=side):\n",
    "            count=count+1\n",
    "    if(t3=='Eco'):\n",
    "        if (st3!=side):\n",
    "            count=count+1\n",
    "    return count\n",
    "def setwr(side,data,half):#half 1=false 16=true\n",
    "    countT=0.0\n",
    "    countCT=0.0\n",
    "    if (half==False):\n",
    "        for i in data[data.index<=15].index:\n",
    "            if(data[data.index==i].WS[i]=='T'):\n",
    "                countT=countT+1\n",
    "            else:countCT=countCT+1\n",
    "    else:\n",
    "        for i in data[data.index>15].index:\n",
    "            if(data[data.index==i].WS[i]=='T'):\n",
    "                countT=countT+1\n",
    "            else:countCT=countCT+1\n",
    "    if(side=='T'):\n",
    "        return countT/(countCT+countT)\n",
    "    else:\n",
    "        return countCT/(countCT+countT)\n",
    "\n",
    "def setfw(side,data):#开场时的 side 有没有赢得最终胜利\n",
    "    countT=0.0\n",
    "    countCT=0.0\n",
    "    for i in data[data.index<=15].index:\n",
    "        if(data[data.index==i].WS[i]=='T'):\n",
    "            countT=countT+1\n",
    "        else:countCT=countCT+1\n",
    "\n",
    "    for i in data[data.index>15].index:\n",
    "        if(data[data.index==i].WS[i]=='T'):\n",
    "            countCT=countCT+1\n",
    "        else:countT=countT+1\n",
    "    if(countT>countCT):\n",
    "        win='T'\n",
    "    if(countT<countCT):\n",
    "        win='CT'\n",
    "    if(countT==countCT):\n",
    "        win='DRAW'\n",
    "    if(side==win):\n",
    "        return True\n",
    "    else: return False\n",
    "\n",
    "    \n",
    "\n",
    "\n",
    "from pandas import DataFrame\n",
    "Tdata=DataFrame(columns=['MN','R3','ECO','WR','FW','Half'])#（比賽名字 半場前三局得分 對方eco次數 半場勝率 最終是否獲勝比賽 是否下半場） ）\n",
    "Tindex=1\n",
    "CTdata=DataFrame(columns=['MN','R3','ECO','WR','FW','Half'])\n",
    "CTindex=1\n",
    "\n",
    "\n",
    "Tdata1=DataFrame(columns=['MN','R3','ECO','WR','FW','Half'])\n",
    "Tindex1=1\n",
    "CTdata1=DataFrame(columns=['MN','R3','ECO','WR','FW','Half'])\n",
    "CTindex1=1\n",
    "\n",
    "\n",
    "\n"
   ]
  },
  {
   "cell_type": "code",
   "execution_count": 3,
   "metadata": {},
   "outputs": [
    {
     "name": "stdout",
     "output_type": "stream",
     "text": [
      "inf_ after_Cloud9VsAstralis\n",
      "2\n",
      "3\n",
      "inf_ after_fazeVsNinja\n",
      "2\n",
      "3\n",
      "inf_ after_natusVsAstralis\n",
      "1\n",
      "4\n",
      "mir_after_FazeClanVsmibr-\n",
      "2\n",
      "3\n",
      "mir_after_mibr-VsCloud9\n",
      "2\n",
      "3\n",
      "mir_after_mibr-VsNatus\n",
      "1\n",
      "4\n",
      "mir_after_NinjaVsmibr-\n",
      "1\n",
      "4\n"
     ]
    }
   ],
   "source": [
    "files = [['inf_ after_Cloud9VsAstralis','inf_ after_fazeVsNinja','inf_ after_natusVsAstralis','mir_after_FazeClanVsmibr-','mir_after_mibr-VsCloud9','mir_after_mibr-VsNatus','mir_after_NinjaVsmibr-'],['inf_before_cloud9VsWin','inf_before_FaZeVsAstralis','inf_before_fnaVsWin','inf_before_mibrVsComplex','mir_before_AstralisVsFaze','mir_before_FnaVsHellfire','mir_before_hellVsLiquid','mir_before_mouseVsFaze','mir_before_NatusVsFna','mir_before_NinjasVsLiquid']]\n",
    "\n",
    "for j in range(7):\n",
    "    file=files[0][j]\n",
    "    print(file)\n",
    "    data = pd.read_csv(file+'.csv', index_col=0)\n",
    "    if (data[data.index==1].WS[1]=='T'):\n",
    "        Tdata.loc[Tindex] = [file,setr3('T',data[data.index==1].WS[1],data[data.index==2].WS[2],data[data.index==3].WS[3]),seteco('T',data[data.index==2].TYPE[2],data[data.index==2].ST[2],data[data.index==3].TYPE[3],data[data.index==3].ST[3]),setwr('T',data,False),setfw('T',data),False]\n",
    "        print(1)\n",
    "        Tindex=Tindex+1\n",
    "    if (data[data.index==1].WS[1]=='CT'):\n",
    "        CTdata.loc[CTindex] = [file,setr3('CT',data[data.index==1].WS[1],data[data.index==2].WS[2],data[data.index==3].WS[3]),seteco('CT',data[data.index==2].TYPE[2],data[data.index==2].ST[2],data[data.index==3].TYPE[3],data[data.index==3].ST[3]),setwr('CT',data,False),setfw('CT',data),False]\n",
    "        CTindex=CTindex+1\n",
    "        print(2)\n",
    "    if (data[data.index==16].WS[16]=='T'):\n",
    "        Tdata.loc[Tindex] = [file,setr3('T',data[data.index==16].WS[16],data[data.index==17].WS[17],data[data.index==18].WS[18]),seteco('T',data[data.index==17].TYPE[17],data[data.index==17].ST[17],data[data.index==18].TYPE[18],data[data.index==18].ST[18]),setwr('T',data,True),setfw('T',data),True]\n",
    "        Tindex=Tindex+1\n",
    "        print(3)\n",
    "    if (data[data.index==16].WS[16]=='CT'):\n",
    "        CTdata.loc[CTindex] = [file,setr3('CT',data[data.index==16].WS[16],data[data.index==17].WS[17],data[data.index==18].WS[18]),seteco('CT',data[data.index==17].TYPE[17],data[data.index==17].ST[17],data[data.index==18].TYPE[18],data[data.index==18].ST[18]),setwr('CT',data,True),setfw('CT',data),True]\n",
    "        CTindex=CTindex+1\n",
    "        print(4)"
   ]
  },
  {
   "cell_type": "code",
   "execution_count": 4,
   "metadata": {},
   "outputs": [
    {
     "name": "stdout",
     "output_type": "stream",
     "text": [
      "                            MN R3 ECO        WR     FW   Half\n",
      "1  inf_ after_Cloud9VsAstralis  3   1  0.533333   True   True\n",
      "2       inf_ after_fazeVsNinja  3   1  0.333333  False   True\n",
      "3   inf_ after_natusVsAstralis  3   1  0.666667   True  False\n",
      "4    mir_after_FazeClanVsmibr-  2   1  0.466667  False   True\n",
      "5      mir_after_mibr-VsCloud9  3   1  0.333333   True   True\n",
      "6       mir_after_mibr-VsNatus  3   1  0.866667   True  False\n",
      "7       mir_after_NinjaVsmibr-  3   1  0.733333   True  False\n"
     ]
    }
   ],
   "source": [
    "print(Tdata)\n"
   ]
  },
  {
   "cell_type": "code",
   "execution_count": 5,
   "metadata": {},
   "outputs": [
    {
     "name": "stdout",
     "output_type": "stream",
     "text": [
      "                            MN R3 ECO        WR     FW   Half\n",
      "1  inf_ after_Cloud9VsAstralis  3   1  0.400000  False  False\n",
      "2       inf_ after_fazeVsNinja  1   1  0.666667  False  False\n",
      "3   inf_ after_natusVsAstralis  1   0  0.600000  False   True\n",
      "4    mir_after_FazeClanVsmibr-  3   1  0.533333  False  False\n",
      "5      mir_after_mibr-VsCloud9  2   1  0.600000  False  False\n",
      "6       mir_after_mibr-VsNatus  3   0  1.000000  False   True\n",
      "7       mir_after_NinjaVsmibr-  1   0  0.714286  False   True\n"
     ]
    }
   ],
   "source": [
    "print(CTdata)\n"
   ]
  },
  {
   "cell_type": "code",
   "execution_count": 6,
   "metadata": {},
   "outputs": [
    {
     "name": "stdout",
     "output_type": "stream",
     "text": [
      "inf_before_cloud9VsWin\n",
      "2\n",
      "3\n",
      "inf_before_FaZeVsAstralis\n",
      "2\n",
      "4\n",
      "inf_before_fnaVsWin\n",
      "2\n",
      "3\n",
      "inf_before_mibrVsComplex\n",
      "2\n",
      "3\n",
      "mir_before_AstralisVsFaze\n",
      "1\n",
      "3\n",
      "mir_before_FnaVsHellfire\n",
      "1\n",
      "3\n",
      "mir_before_hellVsLiquid\n",
      "1\n",
      "3\n",
      "mir_before_mouseVsFaze\n",
      "2\n",
      "4\n",
      "mir_before_NatusVsFna\n",
      "1\n",
      "3\n",
      "mir_before_NinjasVsLiquid\n",
      "1\n",
      "4\n"
     ]
    }
   ],
   "source": [
    "files = [['inf_ after_Cloud9VsAstralis','inf_ after_fazeVsNinja','inf_ after_natusVsAstralis','mir_after_FazeClanVsmibr-','mir_after_mibr-VsCloud9','mir_after_mibr-VsNatus','mir_after_NinjaVsmibr-'],['inf_before_cloud9VsWin','inf_before_FaZeVsAstralis','inf_before_fnaVsWin','inf_before_mibrVsComplex','mir_before_AstralisVsFaze','mir_before_FnaVsHellfire','mir_before_hellVsLiquid','mir_before_mouseVsFaze','mir_before_NatusVsFna','mir_before_NinjasVsLiquid']]\n",
    "\n",
    "for j in range(10):\n",
    "    file=files[1][j]\n",
    "    print(file)\n",
    "    data = pd.read_csv(file+'.csv', index_col=0)\n",
    "    if (data[data.index==1].WS[1]=='T'):\n",
    "        Tdata1.loc[Tindex1] = [file,setr3('T',data[data.index==1].WS[1],data[data.index==2].WS[2],data[data.index==3].WS[3]),seteco('T',data[data.index==2].TYPE[2],data[data.index==2].ST[2],data[data.index==3].TYPE[3],data[data.index==3].ST[3]),setwr('T',data,False),setfw('T',data),False]\n",
    "        print(1)\n",
    "        Tindex1=Tindex1+1\n",
    "    if (data[data.index==1].WS[1]=='CT'):\n",
    "        CTdata1.loc[CTindex1] = [file,setr3('CT',data[data.index==1].WS[1],data[data.index==2].WS[2],data[data.index==3].WS[3]),seteco('CT',data[data.index==2].TYPE[2],data[data.index==2].ST[2],data[data.index==3].TYPE[3],data[data.index==3].ST[3]),setwr('CT',data,False),setfw('CT',data),False]\n",
    "        CTindex1=CTindex1+1\n",
    "        print(2)\n",
    "    if (data[data.index==16].WS[16]=='T'):\n",
    "        Tdata1.loc[Tindex1] = [file,setr3('T',data[data.index==16].WS[16],data[data.index==17].WS[17],data[data.index==18].WS[18]),seteco('T',data[data.index==17].TYPE[17],data[data.index==17].ST[17],data[data.index==18].TYPE[18],data[data.index==18].ST[18]),setwr('T',data,True),setfw('T',data),True]\n",
    "        Tindex1=Tindex1+1\n",
    "        print(3)\n",
    "    if (data[data.index==16].WS[16]=='CT'):\n",
    "        CTdata1.loc[CTindex1] = [file,setr3('CT',data[data.index==16].WS[16],data[data.index==17].WS[17],data[data.index==18].WS[18]),seteco('CT',data[data.index==17].TYPE[17],data[data.index==17].ST[17],data[data.index==18].TYPE[18],data[data.index==18].ST[18]),setwr('CT',data,True),setfw('CT',data),True]\n",
    "        CTindex1=CTindex1+1\n",
    "        print(4)"
   ]
  },
  {
   "cell_type": "code",
   "execution_count": 7,
   "metadata": {},
   "outputs": [
    {
     "name": "stdout",
     "output_type": "stream",
     "text": [
      "                           MN R3 ECO        WR     FW   Half\n",
      "1      inf_before_cloud9VsWin  1   0  0.350000  False   True\n",
      "2         inf_before_fnaVsWin  3   1  1.000000  False   True\n",
      "3    inf_before_mibrVsComplex  1   1  0.692308  False   True\n",
      "4   mir_before_AstralisVsFaze  3   2  0.266667  False  False\n",
      "5   mir_before_AstralisVsFaze  1   0  0.333333  False   True\n",
      "6    mir_before_FnaVsHellfire  3   2  0.733333  False  False\n",
      "7    mir_before_FnaVsHellfire  1   1  0.666667  False   True\n",
      "8     mir_before_hellVsLiquid  3   2  0.800000   True  False\n",
      "9     mir_before_hellVsLiquid  3   2  0.636364   True   True\n",
      "10      mir_before_NatusVsFna  2   1  0.466667  False  False\n",
      "11      mir_before_NatusVsFna  3   2  0.800000  False   True\n",
      "12  mir_before_NinjasVsLiquid  3   1  0.466667   True  False\n"
     ]
    }
   ],
   "source": [
    "print(Tdata1)\n"
   ]
  },
  {
   "cell_type": "code",
   "execution_count": 8,
   "metadata": {},
   "outputs": [
    {
     "name": "stdout",
     "output_type": "stream",
     "text": [
      "                          MN R3 ECO        WR     FW   Half\n",
      "1     inf_before_cloud9VsWin  2   1  0.800000   True  False\n",
      "2  inf_before_FaZeVsAstralis  2   1  0.666667  False  False\n",
      "3  inf_before_FaZeVsAstralis  3   1  0.846154  False   True\n",
      "4        inf_before_fnaVsWin  3   1  0.533333   True  False\n",
      "5   inf_before_mibrVsComplex  3   2  0.466667   True  False\n",
      "6     mir_before_mouseVsFaze  3   2  0.333333  False  False\n",
      "7     mir_before_mouseVsFaze  1   0  0.666667  False   True\n",
      "8  mir_before_NinjasVsLiquid  2   1  0.818182  False   True\n"
     ]
    }
   ],
   "source": [
    "print(CTdata1)"
   ]
  },
  {
   "cell_type": "code",
   "execution_count": 23,
   "metadata": {},
   "outputs": [
    {
     "name": "stdout",
     "output_type": "stream",
     "text": [
      "For T wining the pistol round\n",
      "Before: average win in 3 rounds:  2.25\n",
      "After: average win in 3 rounds:  2.857142857142857\n",
      "Before: average CT ECO in 3 rounds:  1.25\n",
      "After: average CT ECO in 3 rounds:  1.0\n",
      "Before: average wining rate in the half:  0.6010003885003885\n",
      "After: average wining rate in the half:  0.5619047619047619\n"
     ]
    },
    {
     "data": {
      "image/png": "[encoded data removed]",
      "text/plain": [
       "<matplotlib.figure.Figure at 0x1a25b9df60>"
      ]
     },
     "metadata": {},
     "output_type": "display_data"
    }
   ],
   "source": [
    "Twindata=DataFrame(columns=['result'])\n",
    "\n",
    "Twindata['BR3']=[Tdata1.R3.mean()]\n",
    "Twindata['AR3']=[Tdata.R3.mean()]\n",
    "Twindata['BECO']=[Tdata1.ECO.mean()]\n",
    "Twindata['AECO']=[Tdata.ECO.mean()]\n",
    "Twindata['BWR']=[Tdata1.WR.mean()]\n",
    "Twindata['AWR']=[Tdata.WR.mean()]\n",
    "\n",
    "Twindata.plot(kind='bar', figsize=[10,5],  legend=True, title='For T wining the pistol round')\n",
    "print('For T wining the pistol round')\n",
    "\n",
    "print('Before: average win in 3 rounds: ',Tdata1.R3.mean())\n",
    "print('After: average win in 3 rounds: ',Tdata.R3.mean())\n",
    "\n",
    "print('Before: average CT ECO in 3 rounds: ',Tdata1.ECO.mean())\n",
    "print('After: average CT ECO in 3 rounds: ',Tdata.ECO.mean())\n",
    "\n",
    "print('Before: average wining rate in the half: ',Tdata1.WR.mean())\n",
    "print('After: average wining rate in the half: ',Tdata.WR.mean())"
   ]
  },
  {
   "cell_type": "code",
   "execution_count": 25,
   "metadata": {
    "scrolled": true
   },
   "outputs": [
    {
     "name": "stdout",
     "output_type": "stream",
     "text": [
      "For CT wining the pistol round\n",
      "Before: average win in 3 rounds:  2.375\n",
      "After: average win in 3 rounds:  2.0\n",
      "Before: average T ECO in 3 rounds:  1.125\n",
      "After: average T ECO in 3 rounds:  0.5714285714285714\n",
      "Before: average wining rate in the half:  0.6413752913752915\n",
      "After: average wining rate in the half:  0.6448979591836734\n"
     ]
    },
    {
     "data": {
      "image/png": "[encoded data removed]",
      "text/plain": [
       "<matplotlib.figure.Figure at 0x1a26117eb8>"
      ]
     },
     "metadata": {},
     "output_type": "display_data"
    }
   ],
   "source": [
    "CTwindata=DataFrame(columns=['result'])\n",
    "\n",
    "CTwindata['BR3']=[CTdata1.R3.mean()]\n",
    "CTwindata['AR3']=[CTdata.R3.mean()]\n",
    "CTwindata['BECO']=[CTdata1.ECO.mean()]\n",
    "CTwindata['AECO']=[CTdata.ECO.mean()]\n",
    "CTwindata['BWR']=[CTdata1.WR.mean()]\n",
    "CTwindata['AWR']=[CTdata.WR.mean()]\n",
    "\n",
    "CTwindata.plot(kind='bar', figsize=[10,5],  legend=True, title='For CT wining the pistol round')\n",
    "print('For CT wining the pistol round')\n",
    "\n",
    "print('Before: average win in 3 rounds: ',CTdata1.R3.mean())\n",
    "print('After: average win in 3 rounds: ',CTdata.R3.mean())\n",
    "\n",
    "print('Before: average T ECO in 3 rounds: ',CTdata1.ECO.mean())\n",
    "print('After: average T ECO in 3 rounds: ',CTdata.ECO.mean())\n",
    "\n",
    "print('Before: average wining rate in the half: ',CTdata1.WR.mean())\n",
    "print('After: average wining rate in the half: ',CTdata.WR.mean())"
   ]
  },
  {
   "cell_type": "code",
   "execution_count": null,
   "metadata": {},
   "outputs": [],
   "source": []
  },
  {
   "cell_type": "code",
   "execution_count": null,
   "metadata": {},
   "outputs": [],
   "source": []
  },
  {
   "cell_type": "code",
   "execution_count": null,
   "metadata": {},
   "outputs": [],
   "source": []
  },
  {
   "cell_type": "code",
   "execution_count": null,
   "metadata": {},
   "outputs": [],
   "source": []
  }
 ],
 "metadata": {
  "kernelspec": {
   "display_name": "Python 3",
   "language": "python",
   "name": "python3"
  },
  "language_info": {
   "codemirror_mode": {
    "name": "ipython",
    "version": 3
   },
   "file_extension": ".py",
   "mimetype": "text/x-python",
   "name": "python",
   "nbconvert_exporter": "python",
   "pygments_lexer": "ipython3",
   "version": "3.6.4"
  }
 },
 "nbformat": 4,
 "nbformat_minor": 2
}
